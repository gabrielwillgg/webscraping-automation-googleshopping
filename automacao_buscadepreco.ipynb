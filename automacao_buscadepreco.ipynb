{
 "cells": [
  {
   "cell_type": "markdown",
   "metadata": {},
   "source": [
    "# Automação e Web Scraping com Selenium"
   ]
  },
  {
   "cell_type": "markdown",
   "metadata": {},
   "source": [
    "#### <strong>Introdução</strong>\n",
    "Este projeto foi realizado por Gabriel Will, a fim de estudos.<br>\n",
    "Site: <strong><a href=\"https://gabrielwill.com.br\">gabrielwill.com.br</a></strong><br>\n",
    "Linkedin: <strong><a href=\"https://www.linkedin.com/in/gabrielwillgg/\">Gabriel Will</a></strong>"
   ]
  },
  {
   "cell_type": "markdown",
   "metadata": {},
   "source": [
    "#### <strong>Objetivo</strong>\n",
    "O objetivo deste notebook é desenvolver um web scraping, utilizando Selenium, que pesquisa produtos no Google Shopping a partir de uma planilha de Excel, filtrando através de preço mínimo e preço máximo e também termos para excluir alguns resultados indesejados."
   ]
  },
  {
   "cell_type": "markdown",
   "metadata": {},
   "source": [
    "Importamos dos pacotes que usaremos para desenvolver este projeto, sendo elas:\n",
    "- Selenium: o pacote principal do projeto, usado para extrair os dados da página.\n",
    "- Pandas: poderosíssima biblioteca para podermos gerar um DataFrame e visualizar o resultado de nosso web scraping."
   ]
  },
  {
   "cell_type": "code",
   "execution_count": 1,
   "metadata": {},
   "outputs": [],
   "source": [
    "# Importando pacotes\n",
    "from selenium import webdriver\n",
    "from selenium.webdriver.common.keys import Keys\n",
    "from selenium.webdriver.common.by import By\n",
    "import pandas as pd"
   ]
  },
  {
   "cell_type": "code",
   "execution_count": 2,
   "metadata": {},
   "outputs": [
    {
     "data": {
      "text/html": [
       "<div>\n",
       "<style scoped>\n",
       "    .dataframe tbody tr th:only-of-type {\n",
       "        vertical-align: middle;\n",
       "    }\n",
       "\n",
       "    .dataframe tbody tr th {\n",
       "        vertical-align: top;\n",
       "    }\n",
       "\n",
       "    .dataframe thead th {\n",
       "        text-align: right;\n",
       "    }\n",
       "</style>\n",
       "<table border=\"1\" class=\"dataframe\">\n",
       "  <thead>\n",
       "    <tr style=\"text-align: right;\">\n",
       "      <th></th>\n",
       "      <th>Nome</th>\n",
       "      <th>Termos banidos</th>\n",
       "      <th>Preço mínimo</th>\n",
       "      <th>Preço máximo</th>\n",
       "    </tr>\n",
       "  </thead>\n",
       "  <tbody>\n",
       "    <tr>\n",
       "      <th>0</th>\n",
       "      <td>iphone 15 128 gb</td>\n",
       "      <td>mini watch usado</td>\n",
       "      <td>4000</td>\n",
       "      <td>5000</td>\n",
       "    </tr>\n",
       "    <tr>\n",
       "      <th>1</th>\n",
       "      <td>rtx 4060</td>\n",
       "      <td>3060</td>\n",
       "      <td>1300</td>\n",
       "      <td>2800</td>\n",
       "    </tr>\n",
       "    <tr>\n",
       "      <th>2</th>\n",
       "      <td>ryzen 5 5600g</td>\n",
       "      <td>NaN</td>\n",
       "      <td>400</td>\n",
       "      <td>1000</td>\n",
       "    </tr>\n",
       "    <tr>\n",
       "      <th>3</th>\n",
       "      <td>placa mãe b550m</td>\n",
       "      <td>NaN</td>\n",
       "      <td>300</td>\n",
       "      <td>1000</td>\n",
       "    </tr>\n",
       "    <tr>\n",
       "      <th>4</th>\n",
       "      <td>NaN</td>\n",
       "      <td>NaN</td>\n",
       "      <td>300</td>\n",
       "      <td>200</td>\n",
       "    </tr>\n",
       "  </tbody>\n",
       "</table>\n",
       "</div>"
      ],
      "text/plain": [
       "               Nome    Termos banidos  Preço mínimo  Preço máximo\n",
       "0  iphone 15 128 gb  mini watch usado          4000          5000\n",
       "1          rtx 4060              3060          1300          2800\n",
       "2     ryzen 5 5600g               NaN           400          1000\n",
       "3   placa mãe b550m               NaN           300          1000\n",
       "4               NaN               NaN           300           200"
      ]
     },
     "metadata": {},
     "output_type": "display_data"
    }
   ],
   "source": [
    "# Importando e transformando os produtos em DataFrame\n",
    "produtos_df = pd.read_excel(\"buscas.xlsx\")\n",
    "display(produtos_df)"
   ]
  },
  {
   "cell_type": "code",
   "execution_count": 3,
   "metadata": {},
   "outputs": [
    {
     "data": {
      "text/html": [
       "<div>\n",
       "<style scoped>\n",
       "    .dataframe tbody tr th:only-of-type {\n",
       "        vertical-align: middle;\n",
       "    }\n",
       "\n",
       "    .dataframe tbody tr th {\n",
       "        vertical-align: top;\n",
       "    }\n",
       "\n",
       "    .dataframe thead th {\n",
       "        text-align: right;\n",
       "    }\n",
       "</style>\n",
       "<table border=\"1\" class=\"dataframe\">\n",
       "  <thead>\n",
       "    <tr style=\"text-align: right;\">\n",
       "      <th></th>\n",
       "      <th>Nome</th>\n",
       "      <th>Termos banidos</th>\n",
       "      <th>Preço mínimo</th>\n",
       "      <th>Preço máximo</th>\n",
       "    </tr>\n",
       "  </thead>\n",
       "  <tbody>\n",
       "    <tr>\n",
       "      <th>0</th>\n",
       "      <td>iphone 15 128 gb</td>\n",
       "      <td>mini watch usado</td>\n",
       "      <td>4000</td>\n",
       "      <td>5000</td>\n",
       "    </tr>\n",
       "    <tr>\n",
       "      <th>1</th>\n",
       "      <td>rtx 4060</td>\n",
       "      <td>3060</td>\n",
       "      <td>1300</td>\n",
       "      <td>2800</td>\n",
       "    </tr>\n",
       "    <tr>\n",
       "      <th>2</th>\n",
       "      <td>ryzen 5 5600g</td>\n",
       "      <td>-9999</td>\n",
       "      <td>400</td>\n",
       "      <td>1000</td>\n",
       "    </tr>\n",
       "    <tr>\n",
       "      <th>3</th>\n",
       "      <td>placa mãe b550m</td>\n",
       "      <td>-9999</td>\n",
       "      <td>300</td>\n",
       "      <td>1000</td>\n",
       "    </tr>\n",
       "    <tr>\n",
       "      <th>4</th>\n",
       "      <td>-9999</td>\n",
       "      <td>-9999</td>\n",
       "      <td>300</td>\n",
       "      <td>200</td>\n",
       "    </tr>\n",
       "  </tbody>\n",
       "</table>\n",
       "</div>"
      ],
      "text/plain": [
       "               Nome    Termos banidos  Preço mínimo  Preço máximo\n",
       "0  iphone 15 128 gb  mini watch usado          4000          5000\n",
       "1          rtx 4060              3060          1300          2800\n",
       "2     ryzen 5 5600g             -9999           400          1000\n",
       "3   placa mãe b550m             -9999           300          1000\n",
       "4             -9999             -9999           300           200"
      ]
     },
     "metadata": {},
     "output_type": "display_data"
    }
   ],
   "source": [
    "#Tratando o DataFrame pra substituir as células vazias por outro valor\n",
    "produtos_df = produtos_df.fillna('-9999')\n",
    "display(produtos_df)"
   ]
  },
  {
   "cell_type": "code",
   "execution_count": 4,
   "metadata": {},
   "outputs": [],
   "source": [
    "# Cria o navegador automatizado\n",
    "nav = webdriver.Chrome()"
   ]
  },
  {
   "cell_type": "code",
   "execution_count": 5,
   "metadata": {},
   "outputs": [],
   "source": [
    "# Cria função para automatizar a busca e extração de dados\n",
    "def busca_google_shopping(nav, produto, termos_banidos, preco_minimo, preco_maximo):\n",
    "    produto = str(produto)\n",
    "    termos_banidos = str(termos_banidos)\n",
    "    # filtra o nome do produto, caso tenha um espaço ele transforma em uma lista com todas as palavras do produto\n",
    "    lista_termos_nome = []\n",
    "    if \" \" in produto:\n",
    "        lista_termos_nome = produto.split(\" \")\n",
    "    else:\n",
    "        lista_termos_nome.append(produto)\n",
    "    # filtra os termos do produto\n",
    "    lista_termos_banidos = []\n",
    "    if \" \" in termos_banidos:\n",
    "        lista_termos_banidos = termos_banidos.split(\" \")\n",
    "    elif termos_banidos != '-9999':\n",
    "        lista_termos_banidos.append(termos_banidos)\n",
    "    \n",
    "    # Entra no site do google shopping e digita o nome do produto\n",
    "    nav.get('https://shopping.google.com.br/')\n",
    "    nav.find_element(By.ID, 'REsRA').send_keys(produto, Keys.ENTER)\n",
    "    lista_resultados = nav.find_elements(By.CLASS_NAME,'sh-dgr__content')\n",
    "\n",
    "    lista_ofertas = []\n",
    "    # Extrai todas as informações dos produtos e adiciona em uma lista de tuplas\n",
    "    for resultado in lista_resultados:\n",
    "        nome = resultado.find_element(By.CLASS_NAME,'tAxDx').text\n",
    "\n",
    "        tem_termos_banidos = False\n",
    "        if len(lista_termos_banidos) >= 1:\n",
    "            for palavra in lista_termos_banidos:\n",
    "                palavra = str(palavra)\n",
    "                if palavra.lower() in nome.lower():\n",
    "                    tem_termos_banidos = True\n",
    "\n",
    "        tem_termos_nome_produtos = True\n",
    "        for palavra in lista_termos_nome:\n",
    "            palavra = str(palavra)\n",
    "            if palavra.lower() not in nome.lower():\n",
    "                tem_termos_nome_produtos = False\n",
    "\n",
    "        if tem_termos_banidos or not tem_termos_nome_produtos:\n",
    "            continue\n",
    "        \n",
    "        # tratando os preços\n",
    "        preco = resultado.find_element(By.CLASS_NAME,'a8Pemb').text\n",
    "        preco = preco.replace(\"R$\",\"\").replace(\" \",\"\").replace(\".\",\"\")\n",
    "        preco = float(preco.replace(\",\",\".\"))\n",
    "        if preco_minimo <= preco <= preco_maximo:\n",
    "            link = resultado.find_element(By.CSS_SELECTOR, \"a[class='shntl']\").get_attribute('href')\n",
    "            lista_ofertas.append((nome, preco, link))\n",
    "    return(lista_ofertas)\n"
   ]
  },
  {
   "cell_type": "code",
   "execution_count": 6,
   "metadata": {},
   "outputs": [],
   "source": [
    "lista_google_shopping = {}\n",
    "# loop para acessar os indexes do DataFrame principal\n",
    "for row in produtos_df.index:\n",
    "    produto = produtos_df.loc[row, \"Nome\"]\n",
    "    if produto == '-9999':\n",
    "        continue\n",
    "    termos_banidos = produtos_df.loc[row, \"Termos banidos\"]\n",
    "\n",
    "    preco_minimo = float(produtos_df.loc[row, \"Preço mínimo\"])\n",
    "    preco_maximo = float(produtos_df.loc[row, \"Preço máximo\"])\n",
    "\n",
    "    pesquisa_ofertas = busca_google_shopping(nav, produto, termos_banidos, preco_minimo, preco_maximo)\n",
    "    lista_google_shopping[produto] = pesquisa_ofertas"
   ]
  },
  {
   "cell_type": "markdown",
   "metadata": {},
   "source": [
    "Exportando para o Excel."
   ]
  },
  {
   "cell_type": "code",
   "execution_count": 7,
   "metadata": {},
   "outputs": [],
   "source": [
    "writer = pd.ExcelWriter('ofertas_google_shopping.xlsx')\n",
    "# loop para poder criar páginas da planilha com os nomes dos produtos\n",
    "for produto in lista_google_shopping:\n",
    "    df = pd.DataFrame(lista_google_shopping[produto], columns=['produto', 'preco', 'link'])\n",
    "    df.to_excel(writer, sheet_name=produto, index=False)\n",
    "writer.close()"
   ]
  },
  {
   "cell_type": "markdown",
   "metadata": {},
   "source": [
    "Depois de todo esse processo, podemos também analisar os preços de determinado produto, sabendo qual é o seu preço mínimo, máximo e a média de preços."
   ]
  },
  {
   "cell_type": "code",
   "execution_count": 8,
   "metadata": {},
   "outputs": [
    {
     "data": {
      "text/html": [
       "<div>\n",
       "<style scoped>\n",
       "    .dataframe tbody tr th:only-of-type {\n",
       "        vertical-align: middle;\n",
       "    }\n",
       "\n",
       "    .dataframe tbody tr th {\n",
       "        vertical-align: top;\n",
       "    }\n",
       "\n",
       "    .dataframe thead th {\n",
       "        text-align: right;\n",
       "    }\n",
       "</style>\n",
       "<table border=\"1\" class=\"dataframe\">\n",
       "  <thead>\n",
       "    <tr style=\"text-align: right;\">\n",
       "      <th></th>\n",
       "      <th>preco</th>\n",
       "      <th>link</th>\n",
       "    </tr>\n",
       "    <tr>\n",
       "      <th>produto</th>\n",
       "      <th></th>\n",
       "      <th></th>\n",
       "    </tr>\n",
       "  </thead>\n",
       "  <tbody>\n",
       "    <tr>\n",
       "      <th>Placa De Vídeo NVIDIA Gigabyte GeForce RTX 4060 Windforce OC 8GB GDDR6</th>\n",
       "      <td>1899.99</td>\n",
       "      <td>https://www.google.com.br/url?url=https://www....</td>\n",
       "    </tr>\n",
       "    <tr>\n",
       "      <th>Placa De Vídeo Galax GeForce RTX 4060 8GB 1-Click OC 1x GDDR6 - 46NSL8MD8ZOC</th>\n",
       "      <td>1689.99</td>\n",
       "      <td>https://www.google.com.br/url?url=https://www....</td>\n",
       "    </tr>\n",
       "    <tr>\n",
       "      <th>Placa De Vídeo Gigabyte GeForce RTX 4060 Eagle OC 8GB GDDR6</th>\n",
       "      <td>1999.90</td>\n",
       "      <td>https://www.google.com.br/url?url=https://www....</td>\n",
       "    </tr>\n",
       "    <tr>\n",
       "      <th>Placa De Video Gigabyte GeForce RTX 4060 Gaming OC 8GB GDDR6</th>\n",
       "      <td>2579.91</td>\n",
       "      <td>https://www.google.com.br/url?url=https://www....</td>\n",
       "    </tr>\n",
       "    <tr>\n",
       "      <th>Placa De Vídeo Gigabyte GeForce RTX 4060 8GB GDDR6 Aero OC</th>\n",
       "      <td>2099.99</td>\n",
       "      <td>https://www.google.com.br/url?url=https://www....</td>\n",
       "    </tr>\n",
       "  </tbody>\n",
       "</table>\n",
       "</div>"
      ],
      "text/plain": [
       "                                                      preco  \\\n",
       "produto                                                       \n",
       "Placa De Vídeo NVIDIA Gigabyte GeForce RTX 4060...  1899.99   \n",
       "Placa De Vídeo Galax GeForce RTX 4060 8GB 1-Cli...  1689.99   \n",
       "Placa De Vídeo Gigabyte GeForce RTX 4060 Eagle ...  1999.90   \n",
       "Placa De Video Gigabyte GeForce RTX 4060 Gaming...  2579.91   \n",
       "Placa De Vídeo Gigabyte GeForce RTX 4060 8GB GD...  2099.99   \n",
       "\n",
       "                                                                                                 link  \n",
       "produto                                                                                                \n",
       "Placa De Vídeo NVIDIA Gigabyte GeForce RTX 4060...  https://www.google.com.br/url?url=https://www....  \n",
       "Placa De Vídeo Galax GeForce RTX 4060 8GB 1-Cli...  https://www.google.com.br/url?url=https://www....  \n",
       "Placa De Vídeo Gigabyte GeForce RTX 4060 Eagle ...  https://www.google.com.br/url?url=https://www....  \n",
       "Placa De Video Gigabyte GeForce RTX 4060 Gaming...  https://www.google.com.br/url?url=https://www....  \n",
       "Placa De Vídeo Gigabyte GeForce RTX 4060 8GB GD...  https://www.google.com.br/url?url=https://www....  "
      ]
     },
     "execution_count": 8,
     "metadata": {},
     "output_type": "execute_result"
    }
   ],
   "source": [
    "produto = \"rtx 4060\"\n",
    "item_df = pd.DataFrame(lista_google_shopping[produto], columns=['produto', 'preco', 'link']).set_index(\"produto\")\n",
    "item_df.head()"
   ]
  },
  {
   "cell_type": "code",
   "execution_count": 9,
   "metadata": {},
   "outputs": [
    {
     "name": "stdout",
     "output_type": "stream",
     "text": [
      "O item de menor preço: Placa De Vídeo Galax GeForce RTX 4060 8GB 1-Click OC 1x GDDR6 - 46NSL8MD8ZOC custando 1689.99.\n",
      "Link: https://www.google.com.br/url?url=https://www.kabum.com.br/produto/496012/placa-de-video-rtx-4060-1-click-oc-1x-galax-nvidia-geforce-8gb-gddr6-dlss-ray-trancing-g-sync%3Fsrsltid%3DAfmBOop-h6ZyWFlL22xhPusfMVeJZ0h1LH4qArFnJUGrWDdn1GgqDcvjgXA&rct=j&q=&esrc=s&opi=95576897&sa=U&ved=0ahUKEwiBucSYsuWFAxXSrJUCHQFLDVQQguUECMkN&usg=AOvVaw1tmNh5ddkXuQ5a3N3FPT4n.\n",
      "\n",
      "O item de maior preço: Placa De Vídeo msi GeForce RTX 4060 Ti Gaming X, 8GB, GDDR6 - 912-V515-022 custando 2794.9.\n",
      "Link: https://www.google.com.br/url?url=https://www.pontofrio.com.br/placa-de-video-rtx-4060-ti-gaming-x-8g-msi-nvidia-geforce-8-1562804540/p/1562804540%3Futm_medium%3Dcpc%26utm_source%3Dgoogle_freelisting%26IdSku%3D1562804540%26idLojista%3D11578%26tipoLojista%3D3P&rct=j&q=&esrc=s&opi=95576897&sa=U&ved=0ahUKEwiBucSYsuWFAxXSrJUCHQFLDVQQguUECPgQ&usg=AOvVaw2AbJETgT6QMXQvDob09tg7.\n",
      "\n",
      "A média dos preços: 2213.91\n"
     ]
    }
   ],
   "source": [
    "menor_preco = item_df[item_df['preco'] == item_df['preco'].min()]\n",
    "maior_preco = item_df[item_df['preco'] == item_df['preco'].max()]\n",
    "\n",
    "print(f'O item de menor preço: {menor_preco.index[0]} custando {menor_preco.iloc[0].iloc[0]}.\\nLink: {menor_preco.iloc[0].iloc[1]}.\\n')\n",
    "print(f'O item de maior preço: {maior_preco.index[0]} custando {maior_preco.iloc[0].iloc[0]}.\\nLink: {maior_preco.iloc[0].iloc[1]}.\\n')\n",
    "print(f'A média dos preços: {(item_df['preco'].mean()):.2f}')"
   ]
  }
 ],
 "metadata": {
  "kernelspec": {
   "display_name": "base",
   "language": "python",
   "name": "python3"
  },
  "language_info": {
   "codemirror_mode": {
    "name": "ipython",
    "version": 3
   },
   "file_extension": ".py",
   "mimetype": "text/x-python",
   "name": "python",
   "nbconvert_exporter": "python",
   "pygments_lexer": "ipython3",
   "version": "3.12.2"
  }
 },
 "nbformat": 4,
 "nbformat_minor": 2
}
